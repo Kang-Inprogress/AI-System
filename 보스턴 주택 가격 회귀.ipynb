{
  "nbformat": 4,
  "nbformat_minor": 0,
  "metadata": {
    "colab": {
      "name": "로이터 뉴스 토픽 분류.ipynb",
      "provenance": [],
      "collapsed_sections": [],
      "authorship_tag": "ABX9TyN8idCFwxIGPINpn0upzN1A",
      "include_colab_link": true
    },
    "kernelspec": {
      "name": "python3",
      "display_name": "Python 3"
    },
    "language_info": {
      "name": "python"
    },
    "accelerator": "TPU"
  },
  "cells": [
    {
      "cell_type": "markdown",
      "metadata": {
        "id": "view-in-github",
        "colab_type": "text"
      },
      "source": [
        "<a href=\"https://colab.research.google.com/github/Kang-Inprogress/AI-System/blob/Final-Test/%EB%B3%B4%EC%8A%A4%ED%84%B4%20%EC%A3%BC%ED%83%9D%20%EA%B0%80%EA%B2%A9%20%ED%9A%8C%EA%B7%80.ipynb\" target=\"_parent\"><img src=\"https://colab.research.google.com/assets/colab-badge.svg\" alt=\"Open In Colab\"/></a>"
      ]
    },
    {
      "cell_type": "markdown",
      "metadata": {
        "id": "IGee-2bVgYiS"
      },
      "source": [
        "# 데이터 파악과 데이터 전처리"
      ]
    },
    {
      "cell_type": "code",
      "metadata": {
        "id": "NgZA_uucdFoj",
        "outputId": "d8c99492-89e5-420a-e3ae-42597e3be25d",
        "colab": {
          "base_uri": "https://localhost:8080/"
        }
      },
      "source": [
        "import tensorflow as tf\n",
        "from tensorflow.keras.datasets import boston_housing\n",
        "\n",
        "(x_train, y_train), (x_test, y_test) = boston_housing.load_data(test_split = 0.2)\n",
        "\n",
        "# print(x_train.shape)\n",
        "# print(x_test.shape)\n",
        "# 404개의 훈련 샘플과 102개의 테스트 샘플이 있고, 모두 13개의 수치 특성이있는 구조이다.\n",
        "# x_train: (404, 13), x_test: (102, 13) \n",
        "# 1000$ 단위\n",
        "\n",
        "\n",
        "# 데이터에서 평균을 빼고, 표준 편차로 나누면 특성의 중앙이 0 근처에 맞추어지고 표준 편차가 1이 된다 = 학습용이\n",
        "mean = x_train.mean(axis=0)\n",
        "x_train = x_train - mean\n",
        "x_test = x_test - mean\n",
        "\n",
        "std = x_train.std(axis=0)\n",
        "x_train = x_train / std\n",
        "x_test = x_test / std\n",
        "\n"
      ],
      "execution_count": 24,
      "outputs": [
        {
          "output_type": "stream",
          "text": [
            "(404,)\n"
          ],
          "name": "stdout"
        }
      ]
    },
    {
      "cell_type": "markdown",
      "metadata": {
        "id": "JKpCTAMCgb7W"
      },
      "source": [
        "# MLP 추가"
      ]
    },
    {
      "cell_type": "code",
      "metadata": {
        "id": "X1h7O0ytgGz-"
      },
      "source": [
        "from tensorflow.keras.models import Sequential\n",
        "from tensorflow.keras.optimizers import Adam\n",
        "from tensorflow.keras.layers import Dense\n",
        "\n",
        "n_input = 64\n",
        "n_hidden = 64\n",
        "n_output = 13\n",
        "\n",
        "# 모델 설정\n",
        "mlp = Sequential()\n",
        "mlp.add(Dense(units=n_hidden, activation=\"tanh\", input_shape = (n_input, ), kernel_initializer=\"random_uniform\", bias_initializer=\"zeros\"))\n",
        "mlp.add(Dense(units=n_output, activation=\"tanh\", kernel_initializer=\"random_uniform\", bias_initializer=\"zeros\"))\n",
        "mlp.compile(loss=\"mse\", optimizer = Adam(learning_rate=0.001), metrics = [\"accuracy\"])\n",
        "\n",
        "\n",
        "# 학습\n",
        "hist = mlp.fit(x_train, y_train, batch_size = 16, epochs = 30, validation_data = (x_test, y_test), verbose = 2)\n",
        "res = mlp.evaluate(x_test, y_test, verbose = 0)\n",
        "print(\"Accuracy: \", res[1]*100)"
      ],
      "execution_count": null,
      "outputs": []
    },
    {
      "cell_type": "code",
      "metadata": {
        "id": "ksGHlpu_hkiu"
      },
      "source": [
        "import matplotlib.pyplot as plt\n",
        "\n",
        "plt.plot(hist.history[\"accuracy\"])\n",
        "plt.plot(hist.history[\"val_accuracy\"])\n",
        "plt.title(\"Model Accuracy\")\n",
        "plt.ylabel(\"Accuracy\")\n",
        "plt.xlabel(\"Epoch\")\n",
        "plt.legend([\"Train\", \"Validation\"], loc = \"lower right\")\n",
        "plt.grid()\n",
        "plt.show()\n",
        "\n",
        "plt.plot(hist.history[\"loss\"])\n",
        "plt.plot(hist.history[\"val_loss\"])\n",
        "plt.title(\"Model loss\")\n",
        "plt.ylabel(\"Loss\")\n",
        "plt.xlabel(\"Epoch\")\n",
        "plt.legend([\"Train\", \"Validation\"], loc = \"upper right\")\n",
        "plt.grid()\n",
        "plt.show()"
      ],
      "execution_count": null,
      "outputs": []
    }
  ]
}