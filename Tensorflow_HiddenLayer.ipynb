{
  "nbformat": 4,
  "nbformat_minor": 0,
  "metadata": {
    "colab": {
      "name": "Tensorflow-HiddenLayer.ipynb",
      "provenance": [],
      "authorship_tag": "ABX9TyMaBAEMIn0986Is9uOBJjlw",
      "include_colab_link": true
    },
    "kernelspec": {
      "name": "python3",
      "display_name": "Python 3"
    },
    "language_info": {
      "name": "python"
    },
    "accelerator": "TPU"
  },
  "cells": [
    {
      "cell_type": "markdown",
      "metadata": {
        "id": "view-in-github",
        "colab_type": "text"
      },
      "source": [
        "<a href=\"https://colab.research.google.com/github/Kang-Inprogress/AI-System/blob/main/Tensorflow_HiddenLayer.ipynb\" target=\"_parent\"><img src=\"https://colab.research.google.com/assets/colab-badge.svg\" alt=\"Open In Colab\"/></a>"
      ]
    },
    {
      "cell_type": "code",
      "metadata": {
        "colab": {
          "base_uri": "https://localhost:8080/"
        },
        "id": "5zdFlxYzFJeb",
        "outputId": "09b7ab8b-bc89-459d-9d14-5decd8ce8821"
      },
      "source": [
        "import numpy as np\n",
        "import tensorflow as tf\n",
        "\n",
        "from tensorflow.keras.models import Sequential\n",
        "from tensorflow.keras.layers import Dense\n",
        "from tensorflow.keras.optimizers import Adam\n",
        "from tensorflow.keras.datasets import mnist\n",
        "\n",
        "(x_train, y_train), (x_test, y_test) = mnist.load_data()\n",
        "x_train = x_train.reshape(60000, 784) # (60000, 28, 28) -> (60000, 784, 1)\n",
        "x_test = x_test.reshape(10000, 784)\n",
        "\n",
        "# 정규화(noramlize). 0~255 -> 0~1\n",
        "# 정규화의 목적: 그 값이 가질 수 있는 최대값으로 나누어 주어서 0~1사이의 값으로 비중을 표현\n",
        "x_train = x_train/255.0 \n",
        "x_test = x_test/255.0\n",
        "\n",
        "y_train = tf.keras.utils.to_categorical(y_train, 10)\n",
        "y_test = tf.keras.utils.to_categorical(y_test, 10)\n",
        "\n",
        "n_input = 784\n",
        "# 히든 레이어 추가: 5층 MLP(히든 레이어 4개)\n",
        "n_hidden1 = 1024\n",
        "n_hidden2 = 512\n",
        "n_hidden3 = 512\n",
        "n_hidden4 = 512\n",
        "n_output = 10\n",
        "\n",
        "mlp = Sequential()\n",
        "mlp.add(Dense(units = n_hidden1, \n",
        "              activation=\"tanh\",\n",
        "              input_shape = (n_input, ),\n",
        "              kernel_initializer=\"random_uniform\",\n",
        "              bias_initializer=\"zeros\"))\n",
        "\n",
        "mlp.add(Dense(units = n_hidden2, activation=\"tanh\", kernel_initializer=\"random_uniform\", bias_initializer=\"zeros\"))\n",
        "mlp.add(Dense(units = n_hidden3, activation=\"tanh\", kernel_initializer=\"random_uniform\", bias_initializer=\"zeros\"))\n",
        "mlp.add(Dense(units = n_hidden4, activation=\"tanh\", kernel_initializer=\"random_uniform\", bias_initializer=\"zeros\"))\n",
        "mlp.add(Dense(units = n_output, \n",
        "              activation=\"tanh\",\n",
        "              # input_shape = (n_input, ), : 앞의 층(은닉층)에서 이미 정의 되었기 때문에 생략가능\n",
        "              kernel_initializer=\"random_uniform\",\n",
        "              bias_initializer=\"zeros\"))\n",
        "\n",
        "mlp.compile(loss=\"mean_squared_error\", optimizer = Adam(learning_rate=0.001), metrics = ['accuracy'])\n",
        "\n",
        "# 검증 데이터로써 test데이터를 사용함\n",
        "hist = mlp.fit(x_train, y_train, batch_size=128, epochs=30, verbose=2, validation_data=(x_test, y_test))\n",
        "\n",
        "res = mlp.evaluate(x_test, y_test, verbose = 0)\n",
        "print(\"Accuracy is\", res[1] * 100)"
      ],
      "execution_count": null,
      "outputs": [
        {
          "output_type": "stream",
          "text": [
            "Downloading data from https://storage.googleapis.com/tensorflow/tf-keras-datasets/mnist.npz\n",
            "11493376/11490434 [==============================] - 0s 0us/step\n",
            "Epoch 1/30\n",
            "469/469 - 17s - loss: 0.0272 - accuracy: 0.8905 - val_loss: 0.0134 - val_accuracy: 0.9451\n",
            "Epoch 2/30\n",
            "469/469 - 16s - loss: 0.0105 - accuracy: 0.9530 - val_loss: 0.0086 - val_accuracy: 0.9587\n",
            "Epoch 3/30\n"
          ],
          "name": "stdout"
        }
      ]
    },
    {
      "cell_type": "code",
      "metadata": {
        "id": "my020XEyFf1C"
      },
      "source": [
        "import matplotlib.pyplot as plt\n",
        "\n",
        "plt.plot(hist.history[\"accuracy\"])\n",
        "plt.plot(hist.history[\"val_accuracy\"])\n",
        "plt.title(\"Model Accuracy\")\n",
        "plt.ylabel(\"Accuracy\")\n",
        "plt.xlabel(\"Epoch\")\n",
        "plt.legend([\"Train\", \"Validation\"], loc = \"lower right\")\n",
        "plt.gird()\n",
        "plt.show()\n",
        "\n",
        "plt.plot(hist.history[\"Loss\"])\n",
        "plt.plot(hist.history[\"val_loss\"])\n",
        "plt.title(\"Model loss\")\n",
        "plt.ylabel(\"Loss\")\n",
        "plt.xlabel(\"Epoch\")\n",
        "plt.legend([\"Train\", \"Validation\"], loc = \"upper right\")\n",
        "plt.gird()\n",
        "plt.show()"
      ],
      "execution_count": null,
      "outputs": []
    }
  ]
}