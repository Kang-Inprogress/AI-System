{
  "nbformat": 4,
  "nbformat_minor": 0,
  "metadata": {
    "colab": {
      "name": "Tensorflow-HiddenLayer.ipynb",
      "provenance": [],
      "authorship_tag": "ABX9TyOTPudLxOUeUlcFM8v4iM7r",
      "include_colab_link": true
    },
    "kernelspec": {
      "name": "python3",
      "display_name": "Python 3"
    },
    "language_info": {
      "name": "python"
    },
    "accelerator": "TPU"
  },
  "cells": [
    {
      "cell_type": "markdown",
      "metadata": {
        "id": "view-in-github",
        "colab_type": "text"
      },
      "source": [
        "<a href=\"https://colab.research.google.com/github/Kang-Inprogress/AI-System/blob/main/Tensorflow_HiddenLayer.ipynb\" target=\"_parent\"><img src=\"https://colab.research.google.com/assets/colab-badge.svg\" alt=\"Open In Colab\"/></a>"
      ]
    },
    {
      "cell_type": "code",
      "metadata": {
        "colab": {
          "base_uri": "https://localhost:8080/"
        },
        "id": "Lz5UhrdsIQWP",
        "outputId": "9e690977-e725-4eaa-da75-65eeca1d1e9a"
      },
      "source": [
        "# TPU 연결과 초기화\n",
        "import os\n",
        "import tensorflow as tf\n",
        " \n",
        "\n",
        "TPU_PATH = f\"grpc://{os.environ['COLAB_TPU_ADDR']}\"\n",
        "\n",
        "resolver = tf.distribute.cluster_resolver.TPUClusterResolver(tpu=TPU_PATH)\n",
        "tf.config.experimental_connect_to_cluster(resolver)\n",
        "tf.tpu.experimental.initialize_tpu_system(resolver)\n",
        "\n",
        "# TPU 연결을 위한 Strategy설정\n",
        "strategy = tf.distribute.experimental.TPUStrategy(resolver)"
      ],
      "execution_count": 5,
      "outputs": [
        {
          "output_type": "stream",
          "text": [
            "INFO:tensorflow:Initializing the TPU system: grpc://10.123.45.186:8470\n"
          ],
          "name": "stdout"
        },
        {
          "output_type": "stream",
          "text": [
            "INFO:tensorflow:Initializing the TPU system: grpc://10.123.45.186:8470\n"
          ],
          "name": "stderr"
        },
        {
          "output_type": "stream",
          "text": [
            "INFO:tensorflow:Clearing out eager caches\n"
          ],
          "name": "stdout"
        },
        {
          "output_type": "stream",
          "text": [
            "INFO:tensorflow:Clearing out eager caches\n"
          ],
          "name": "stderr"
        },
        {
          "output_type": "stream",
          "text": [
            "INFO:tensorflow:Finished initializing TPU system.\n"
          ],
          "name": "stdout"
        },
        {
          "output_type": "stream",
          "text": [
            "INFO:tensorflow:Finished initializing TPU system.\n",
            "WARNING:absl:`tf.distribute.experimental.TPUStrategy` is deprecated, please use  the non experimental symbol `tf.distribute.TPUStrategy` instead.\n"
          ],
          "name": "stderr"
        },
        {
          "output_type": "stream",
          "text": [
            "INFO:tensorflow:Found TPU system:\n"
          ],
          "name": "stdout"
        },
        {
          "output_type": "stream",
          "text": [
            "INFO:tensorflow:Found TPU system:\n"
          ],
          "name": "stderr"
        },
        {
          "output_type": "stream",
          "text": [
            "INFO:tensorflow:*** Num TPU Cores: 8\n"
          ],
          "name": "stdout"
        },
        {
          "output_type": "stream",
          "text": [
            "INFO:tensorflow:*** Num TPU Cores: 8\n"
          ],
          "name": "stderr"
        },
        {
          "output_type": "stream",
          "text": [
            "INFO:tensorflow:*** Num TPU Workers: 1\n"
          ],
          "name": "stdout"
        },
        {
          "output_type": "stream",
          "text": [
            "INFO:tensorflow:*** Num TPU Workers: 1\n"
          ],
          "name": "stderr"
        },
        {
          "output_type": "stream",
          "text": [
            "INFO:tensorflow:*** Num TPU Cores Per Worker: 8\n"
          ],
          "name": "stdout"
        },
        {
          "output_type": "stream",
          "text": [
            "INFO:tensorflow:*** Num TPU Cores Per Worker: 8\n"
          ],
          "name": "stderr"
        },
        {
          "output_type": "stream",
          "text": [
            "INFO:tensorflow:*** Available Device: _DeviceAttributes(/job:localhost/replica:0/task:0/device:CPU:0, CPU, 0, 0)\n"
          ],
          "name": "stdout"
        },
        {
          "output_type": "stream",
          "text": [
            "INFO:tensorflow:*** Available Device: _DeviceAttributes(/job:localhost/replica:0/task:0/device:CPU:0, CPU, 0, 0)\n"
          ],
          "name": "stderr"
        },
        {
          "output_type": "stream",
          "text": [
            "INFO:tensorflow:*** Available Device: _DeviceAttributes(/job:worker/replica:0/task:0/device:CPU:0, CPU, 0, 0)\n"
          ],
          "name": "stdout"
        },
        {
          "output_type": "stream",
          "text": [
            "INFO:tensorflow:*** Available Device: _DeviceAttributes(/job:worker/replica:0/task:0/device:CPU:0, CPU, 0, 0)\n"
          ],
          "name": "stderr"
        },
        {
          "output_type": "stream",
          "text": [
            "INFO:tensorflow:*** Available Device: _DeviceAttributes(/job:worker/replica:0/task:0/device:TPU:0, TPU, 0, 0)\n"
          ],
          "name": "stdout"
        },
        {
          "output_type": "stream",
          "text": [
            "INFO:tensorflow:*** Available Device: _DeviceAttributes(/job:worker/replica:0/task:0/device:TPU:0, TPU, 0, 0)\n"
          ],
          "name": "stderr"
        },
        {
          "output_type": "stream",
          "text": [
            "INFO:tensorflow:*** Available Device: _DeviceAttributes(/job:worker/replica:0/task:0/device:TPU:1, TPU, 0, 0)\n"
          ],
          "name": "stdout"
        },
        {
          "output_type": "stream",
          "text": [
            "INFO:tensorflow:*** Available Device: _DeviceAttributes(/job:worker/replica:0/task:0/device:TPU:1, TPU, 0, 0)\n"
          ],
          "name": "stderr"
        },
        {
          "output_type": "stream",
          "text": [
            "INFO:tensorflow:*** Available Device: _DeviceAttributes(/job:worker/replica:0/task:0/device:TPU:2, TPU, 0, 0)\n"
          ],
          "name": "stdout"
        },
        {
          "output_type": "stream",
          "text": [
            "INFO:tensorflow:*** Available Device: _DeviceAttributes(/job:worker/replica:0/task:0/device:TPU:2, TPU, 0, 0)\n"
          ],
          "name": "stderr"
        },
        {
          "output_type": "stream",
          "text": [
            "INFO:tensorflow:*** Available Device: _DeviceAttributes(/job:worker/replica:0/task:0/device:TPU:3, TPU, 0, 0)\n"
          ],
          "name": "stdout"
        },
        {
          "output_type": "stream",
          "text": [
            "INFO:tensorflow:*** Available Device: _DeviceAttributes(/job:worker/replica:0/task:0/device:TPU:3, TPU, 0, 0)\n"
          ],
          "name": "stderr"
        },
        {
          "output_type": "stream",
          "text": [
            "INFO:tensorflow:*** Available Device: _DeviceAttributes(/job:worker/replica:0/task:0/device:TPU:4, TPU, 0, 0)\n"
          ],
          "name": "stdout"
        },
        {
          "output_type": "stream",
          "text": [
            "INFO:tensorflow:*** Available Device: _DeviceAttributes(/job:worker/replica:0/task:0/device:TPU:4, TPU, 0, 0)\n"
          ],
          "name": "stderr"
        },
        {
          "output_type": "stream",
          "text": [
            "INFO:tensorflow:*** Available Device: _DeviceAttributes(/job:worker/replica:0/task:0/device:TPU:5, TPU, 0, 0)\n"
          ],
          "name": "stdout"
        },
        {
          "output_type": "stream",
          "text": [
            "INFO:tensorflow:*** Available Device: _DeviceAttributes(/job:worker/replica:0/task:0/device:TPU:5, TPU, 0, 0)\n"
          ],
          "name": "stderr"
        },
        {
          "output_type": "stream",
          "text": [
            "INFO:tensorflow:*** Available Device: _DeviceAttributes(/job:worker/replica:0/task:0/device:TPU:6, TPU, 0, 0)\n"
          ],
          "name": "stdout"
        },
        {
          "output_type": "stream",
          "text": [
            "INFO:tensorflow:*** Available Device: _DeviceAttributes(/job:worker/replica:0/task:0/device:TPU:6, TPU, 0, 0)\n"
          ],
          "name": "stderr"
        },
        {
          "output_type": "stream",
          "text": [
            "INFO:tensorflow:*** Available Device: _DeviceAttributes(/job:worker/replica:0/task:0/device:TPU:7, TPU, 0, 0)\n"
          ],
          "name": "stdout"
        },
        {
          "output_type": "stream",
          "text": [
            "INFO:tensorflow:*** Available Device: _DeviceAttributes(/job:worker/replica:0/task:0/device:TPU:7, TPU, 0, 0)\n"
          ],
          "name": "stderr"
        },
        {
          "output_type": "stream",
          "text": [
            "INFO:tensorflow:*** Available Device: _DeviceAttributes(/job:worker/replica:0/task:0/device:TPU_SYSTEM:0, TPU_SYSTEM, 0, 0)\n"
          ],
          "name": "stdout"
        },
        {
          "output_type": "stream",
          "text": [
            "INFO:tensorflow:*** Available Device: _DeviceAttributes(/job:worker/replica:0/task:0/device:TPU_SYSTEM:0, TPU_SYSTEM, 0, 0)\n"
          ],
          "name": "stderr"
        },
        {
          "output_type": "stream",
          "text": [
            "INFO:tensorflow:*** Available Device: _DeviceAttributes(/job:worker/replica:0/task:0/device:XLA_CPU:0, XLA_CPU, 0, 0)\n"
          ],
          "name": "stdout"
        },
        {
          "output_type": "stream",
          "text": [
            "INFO:tensorflow:*** Available Device: _DeviceAttributes(/job:worker/replica:0/task:0/device:XLA_CPU:0, XLA_CPU, 0, 0)\n"
          ],
          "name": "stderr"
        }
      ]
    },
    {
      "cell_type": "code",
      "metadata": {
        "colab": {
          "base_uri": "https://localhost:8080/"
        },
        "id": "DLUQ2RqeIvsy",
        "outputId": "57cf07fa-edf1-4d1a-fff5-af29953d32b1"
      },
      "source": [
        "# 모델 정의와 학습\n",
        "def create_model():\n",
        "  mlp = Sequential()\n",
        "  mlp.add(Dense(units = n_hidden1, activation=\"tanh\", input_shape = (n_input, ), kernel_initializer=\"random_uniform\", bias_initializer=\"zeros\"))\n",
        "  mlp.add(Dense(units = n_hidden2, activation=\"tanh\", kernel_initializer=\"random_uniform\", bias_initializer=\"zeros\"))\n",
        "  mlp.add(Dense(units = n_hidden3, activation=\"tanh\", kernel_initializer=\"random_uniform\", bias_initializer=\"zeros\"))\n",
        "  mlp.add(Dense(units = n_hidden4, activation=\"tanh\", kernel_initializer=\"random_uniform\", bias_initializer=\"zeros\"))\n",
        "  mlp.add(Dense(units = n_output, activation=\"tanh\", kernel_initializer=\"random_uniform\", bias_initializer=\"zeros\"))\n",
        "  return mlp\n",
        "\n",
        "with strategy.scope():\n",
        "  mlp = create_model()\n",
        "  mlp.compile(loss=\"mean_squared_error\", optimizer = Adam(learning_rate=0.001), metrics = ['accuracy'])\n",
        "  hist = mlp.fit(x_train, y_train, batch_size=128, epochs=30, verbose=2, validation_data=(x_test, y_test))\n",
        "  "
      ],
      "execution_count": 6,
      "outputs": [
        {
          "output_type": "stream",
          "text": [
            "Epoch 1/30\n",
            "469/469 - 10s - loss: 0.0259 - accuracy: 0.8968 - val_loss: 0.0131 - val_accuracy: 0.9463\n",
            "Epoch 2/30\n",
            "469/469 - 3s - loss: 0.0101 - accuracy: 0.9534 - val_loss: 0.0081 - val_accuracy: 0.9638\n",
            "Epoch 3/30\n",
            "469/469 - 3s - loss: 0.0067 - accuracy: 0.9684 - val_loss: 0.0062 - val_accuracy: 0.9702\n",
            "Epoch 4/30\n",
            "469/469 - 3s - loss: 0.0052 - accuracy: 0.9753 - val_loss: 0.0059 - val_accuracy: 0.9706\n",
            "Epoch 5/30\n",
            "469/469 - 3s - loss: 0.0044 - accuracy: 0.9796 - val_loss: 0.0053 - val_accuracy: 0.9715\n",
            "Epoch 6/30\n",
            "469/469 - 3s - loss: 0.0036 - accuracy: 0.9830 - val_loss: 0.0045 - val_accuracy: 0.9774\n",
            "Epoch 7/30\n",
            "469/469 - 3s - loss: 0.0031 - accuracy: 0.9862 - val_loss: 0.0040 - val_accuracy: 0.9792\n",
            "Epoch 8/30\n",
            "469/469 - 3s - loss: 0.0029 - accuracy: 0.9869 - val_loss: 0.0042 - val_accuracy: 0.9770\n",
            "Epoch 9/30\n",
            "469/469 - 3s - loss: 0.0025 - accuracy: 0.9891 - val_loss: 0.0045 - val_accuracy: 0.9755\n",
            "Epoch 10/30\n",
            "469/469 - 3s - loss: 0.0024 - accuracy: 0.9888 - val_loss: 0.0052 - val_accuracy: 0.9736\n",
            "Epoch 11/30\n",
            "469/469 - 3s - loss: 0.0022 - accuracy: 0.9903 - val_loss: 0.0037 - val_accuracy: 0.9798\n",
            "Epoch 12/30\n",
            "469/469 - 3s - loss: 0.0020 - accuracy: 0.9913 - val_loss: 0.0042 - val_accuracy: 0.9776\n",
            "Epoch 13/30\n",
            "469/469 - 3s - loss: 0.0017 - accuracy: 0.9929 - val_loss: 0.0044 - val_accuracy: 0.9752\n",
            "Epoch 14/30\n",
            "469/469 - 3s - loss: 0.0018 - accuracy: 0.9927 - val_loss: 0.0046 - val_accuracy: 0.9753\n",
            "Epoch 15/30\n",
            "469/469 - 3s - loss: 0.0016 - accuracy: 0.9933 - val_loss: 0.0042 - val_accuracy: 0.9783\n",
            "Epoch 16/30\n",
            "469/469 - 3s - loss: 0.0017 - accuracy: 0.9926 - val_loss: 0.0038 - val_accuracy: 0.9790\n",
            "Epoch 17/30\n",
            "469/469 - 3s - loss: 0.0016 - accuracy: 0.9935 - val_loss: 0.0036 - val_accuracy: 0.9798\n",
            "Epoch 18/30\n",
            "469/469 - 3s - loss: 0.0014 - accuracy: 0.9944 - val_loss: 0.0037 - val_accuracy: 0.9793\n",
            "Epoch 19/30\n",
            "469/469 - 3s - loss: 0.0012 - accuracy: 0.9949 - val_loss: 0.0039 - val_accuracy: 0.9790\n",
            "Epoch 20/30\n",
            "469/469 - 3s - loss: 0.0012 - accuracy: 0.9951 - val_loss: 0.0039 - val_accuracy: 0.9795\n",
            "Epoch 21/30\n",
            "469/469 - 3s - loss: 0.0012 - accuracy: 0.9952 - val_loss: 0.0039 - val_accuracy: 0.9790\n",
            "Epoch 22/30\n",
            "469/469 - 3s - loss: 0.0011 - accuracy: 0.9956 - val_loss: 0.0037 - val_accuracy: 0.9787\n",
            "Epoch 23/30\n",
            "469/469 - 3s - loss: 0.0010 - accuracy: 0.9961 - val_loss: 0.0035 - val_accuracy: 0.9811\n",
            "Epoch 24/30\n",
            "469/469 - 3s - loss: 0.0011 - accuracy: 0.9955 - val_loss: 0.0041 - val_accuracy: 0.9783\n",
            "Epoch 25/30\n",
            "469/469 - 3s - loss: 0.0011 - accuracy: 0.9956 - val_loss: 0.0042 - val_accuracy: 0.9766\n",
            "Epoch 26/30\n",
            "469/469 - 3s - loss: 9.2037e-04 - accuracy: 0.9968 - val_loss: 0.0038 - val_accuracy: 0.9785\n",
            "Epoch 27/30\n",
            "469/469 - 3s - loss: 0.0010 - accuracy: 0.9960 - val_loss: 0.0037 - val_accuracy: 0.9807\n",
            "Epoch 28/30\n",
            "469/469 - 3s - loss: 7.6650e-04 - accuracy: 0.9971 - val_loss: 0.0036 - val_accuracy: 0.9803\n",
            "Epoch 29/30\n",
            "469/469 - 3s - loss: 8.2918e-04 - accuracy: 0.9969 - val_loss: 0.0040 - val_accuracy: 0.9779\n",
            "Epoch 30/30\n",
            "469/469 - 3s - loss: 9.4388e-04 - accuracy: 0.9965 - val_loss: 0.0039 - val_accuracy: 0.9784\n"
          ],
          "name": "stdout"
        }
      ]
    },
    {
      "cell_type": "code",
      "metadata": {
        "id": "5zdFlxYzFJeb"
      },
      "source": [
        "import numpy as np\n",
        "import tensorflow as tf\n",
        "\n",
        "from tensorflow.keras.models import Sequential\n",
        "from tensorflow.keras.layers import Dense\n",
        "from tensorflow.keras.optimizers import Adam\n",
        "from tensorflow.keras.datasets import mnist\n",
        "\n",
        "(x_train, y_train), (x_test, y_test) = mnist.load_data()\n",
        "x_train = x_train.reshape(60000, 784) # (60000, 28, 28) -> (60000, 784, 1)\n",
        "x_test = x_test.reshape(10000, 784)\n",
        "\n",
        "# 정규화(noramlize). 0~255 -> 0~1\n",
        "# 정규화의 목적: 그 값이 가질 수 있는 최대값으로 나누어 주어서 0~1사이의 값으로 비중을 표현\n",
        "x_train = x_train/255.0 \n",
        "x_test = x_test/255.0\n",
        "\n",
        "y_train = tf.keras.utils.to_categorical(y_train, 10)\n",
        "y_test = tf.keras.utils.to_categorical(y_test, 10)\n",
        "\n",
        "n_input = 784\n",
        "# 히든 레이어 추가: 5층 MLP(히든 레이어 4개)\n",
        "n_hidden1 = 1024\n",
        "n_hidden2 = 512\n",
        "n_hidden3 = 512\n",
        "n_hidden4 = 512\n",
        "n_output = 10\n",
        "\n",
        "mlp = Sequential()\n",
        "mlp.add(Dense(units = n_hidden1, \n",
        "              activation=\"tanh\",\n",
        "              input_shape = (n_input, ),\n",
        "              kernel_initializer=\"random_uniform\",\n",
        "              bias_initializer=\"zeros\"))\n",
        "\n",
        "mlp.add(Dense(units = n_hidden2, activation=\"tanh\", kernel_initializer=\"random_uniform\", bias_initializer=\"zeros\"))\n",
        "mlp.add(Dense(units = n_hidden3, activation=\"tanh\", kernel_initializer=\"random_uniform\", bias_initializer=\"zeros\"))\n",
        "mlp.add(Dense(units = n_hidden4, activation=\"tanh\", kernel_initializer=\"random_uniform\", bias_initializer=\"zeros\"))\n",
        "mlp.add(Dense(units = n_output, \n",
        "              activation=\"tanh\",\n",
        "              # input_shape = (n_input, ), : 앞의 층(은닉층)에서 이미 정의 되었기 때문에 생략가능\n",
        "              kernel_initializer=\"random_uniform\",\n",
        "              bias_initializer=\"zeros\"))\n",
        "\n",
        "mlp.compile(loss=\"mean_squared_error\", optimizer = Adam(learning_rate=0.001), metrics = ['accuracy'])\n",
        "\n",
        "# 검증 데이터로써 test데이터를 사용함\n",
        "hist = mlp.fit(x_train, y_train, batch_size=128, epochs=30, verbose=2, validation_data=(x_test, y_test))\n",
        "\n",
        "res = mlp.evaluate(x_test, y_test, verbose = 0)\n",
        "print(\"Accuracy is\", res[1] * 100)"
      ],
      "execution_count": null,
      "outputs": []
    },
    {
      "cell_type": "code",
      "metadata": {
        "colab": {
          "base_uri": "https://localhost:8080/",
          "height": 573
        },
        "id": "my020XEyFf1C",
        "outputId": "6f3033f0-6690-4d97-eb81-766d68cbf80a"
      },
      "source": [
        "import matplotlib.pyplot as plt\n",
        "\n",
        "plt.plot(hist.history[\"accuracy\"])\n",
        "plt.plot(hist.history[\"val_accuracy\"])\n",
        "plt.title(\"Model Accuracy\")\n",
        "plt.ylabel(\"Accuracy\")\n",
        "plt.xlabel(\"Epoch\")\n",
        "plt.legend([\"Train\", \"Validation\"], loc = \"lower right\")\n",
        "plt.grid()\n",
        "plt.show()\n",
        "\n",
        "plt.plot(hist.history[\"loss\"])\n",
        "plt.plot(hist.history[\"val_loss\"])\n",
        "plt.title(\"Model loss\")\n",
        "plt.ylabel(\"Loss\")\n",
        "plt.xlabel(\"Epoch\")\n",
        "plt.legend([\"Train\", \"Validation\"], loc = \"upper right\")\n",
        "plt.grid()\n",
        "plt.show()"
      ],
      "execution_count": 4,
      "outputs": [
        {
          "output_type": "display_data",
          "data": {
            "image/png": "[encoded data removed]",
            "text/plain": [
              "<Figure size 432x288 with 1 Axes>"
            ]
          },
          "metadata": {
            "tags": [],
            "needs_background": "light"
          }
        },
        {
          "output_type": "display_data",
          "data": {
            "image/png": "[encoded data removed]",
            "text/plain": [
              "<Figure size 432x288 with 1 Axes>"
            ]
          },
          "metadata": {
            "tags": [],
            "needs_background": "light"
          }
        }
      ]
    }
  ]
}