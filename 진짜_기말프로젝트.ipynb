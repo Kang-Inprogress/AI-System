{
  "nbformat": 4,
  "nbformat_minor": 0,
  "metadata": {
    "colab": {
      "name": "진짜 기말프로젝트.ipynb",
      "provenance": [],
      "toc_visible": true,
      "authorship_tag": "ABX9TyNLA9E2kN3sAkfyvGXTaMkV",
      "include_colab_link": true
    },
    "kernelspec": {
      "display_name": "Python 3",
      "name": "python3"
    },
    "language_info": {
      "name": "python"
    },
    "accelerator": "TPU"
  },
  "cells": [
    {
      "cell_type": "markdown",
      "metadata": {
        "id": "view-in-github",
        "colab_type": "text"
      },
      "source": [
        "<a href=\"https://colab.research.google.com/github/Kang-Inprogress/AI-System/blob/Final-Test/%EC%A7%84%EC%A7%9C_%EA%B8%B0%EB%A7%90%ED%94%84%EB%A1%9C%EC%A0%9D%ED%8A%B8.ipynb\" target=\"_parent\"><img src=\"https://colab.research.google.com/assets/colab-badge.svg\" alt=\"Open In Colab\"/></a>"
      ]
    },
    {
      "cell_type": "code",
      "metadata": {
        "id": "s-Ek_B7GM2pN"
      },
      "source": [
        "# TPU 연결과 초기화\n",
        "import os\n",
        "import tensorflow as tf\n",
        " \n",
        "\n",
        "TPU_PATH = f\"grpc://{os.environ['COLAB_TPU_ADDR']}\"\n",
        "\n",
        "resolver = tf.distribute.cluster_resolver.TPUClusterResolver(tpu=TPU_PATH)\n",
        "tf.config.experimental_connect_to_cluster(resolver)\n",
        "tf.tpu.experimental.initialize_tpu_system(resolver)\n",
        "\n",
        "# TPU 연결을 위한 Strategy설정\n",
        "strategy = tf.distribute.experimental.TPUStrategy(resolver)"
      ],
      "execution_count": null,
      "outputs": []
    },
    {
      "cell_type": "markdown",
      "metadata": {
        "id": "l8B0Js6BGhde"
      },
      "source": [
        "# 데이터"
      ]
    },
    {
      "cell_type": "code",
      "metadata": {
        "colab": {
          "base_uri": "https://localhost:8080/"
        },
        "id": "8s482G0K-aje",
        "outputId": "6e7957f0-2c2c-4d44-b4f2-968f548bc9f3"
      },
      "source": [
        "from sklearn.datasets import load_wine\n",
        "from sklearn.model_selection import train_test_split\n",
        "import tensorflow as tf\n",
        "\n",
        "dataset = load_wine()\n",
        "\n",
        "data = dataset[\"data\"]\n",
        "target = dataset[\"target\"]\n",
        "\n",
        "x_train, x_test, y_train, y_test = train_test_split(data, target, test_size = 0.2, shuffle = True)\n",
        "y_train = tf.keras.utils.to_categorical(y_train, 3)\n",
        "y_test = tf.keras.utils.to_categorical(y_test, 3)\n",
        "\n",
        "\n",
        "print(x_train.shape, y_train.shape)\n",
        "print(x_train[0])"
      ],
      "execution_count": 29,
      "outputs": [
        {
          "output_type": "stream",
          "text": [
            "(142, 13) (142, 3)\n",
            "[1.285e+01 1.600e+00 2.520e+00 1.780e+01 9.500e+01 2.480e+00 2.370e+00\n",
            " 2.600e-01 1.460e+00 3.930e+00 1.090e+00 3.630e+00 1.015e+03]\n"
          ],
          "name": "stdout"
        }
      ]
    },
    {
      "cell_type": "markdown",
      "metadata": {
        "id": "Wo0maIoLGdfc"
      },
      "source": [
        "# MLP"
      ]
    },
    {
      "cell_type": "code",
      "metadata": {
        "colab": {
          "base_uri": "https://localhost:8080/"
        },
        "id": "jhEU8q49CDQa",
        "outputId": "55887357-dbcf-44fb-deed-44ca59252654"
      },
      "source": [
        "from tensorflow.keras.models import Sequential\n",
        "from tensorflow.keras.layers import Dense\n",
        "from tensorflow.keras.optimizers import Adam\n",
        "\n",
        "node_input = 13\n",
        "node_hidden = 128\n",
        "node_output = 3\n",
        "\n",
        "mlp = Sequential()\n",
        "mlp.add(Dense(units = node_hidden, activation=\"tanh\", input_shape = (node_input, ), kernel_initializer=\"random_uniform\", bias_initializer=\"zeros\"))\n",
        "mlp.add(Dense(units = node_output, activation=\"tanh\", kernel_initializer=\"random_uniform\", bias_initializer=\"zeros\"))\n",
        "mlp.compile(loss=\"mse\", optimizer = Adam(learning_rate = 0.001), metrics = [\"accuracy\"])\n",
        "\n",
        "hist = mlp.fit(x_train, y_train, batch_size = 4, epochs = 50, validation_data = (x_test, y_test), verbose = 0)\n",
        "res = mlp.evaluate(x_test, y_test, verbose = 0)\n",
        "print(\"Accuracy: \", res[1] * 100)"
      ],
      "execution_count": 53,
      "outputs": [
        {
          "output_type": "stream",
          "text": [
            "Accuracy:  91.66666865348816\n"
          ],
          "name": "stdout"
        }
      ]
    },
    {
      "cell_type": "code",
      "metadata": {
        "colab": {
          "base_uri": "https://localhost:8080/"
        },
        "id": "1gEZdZT7YkIP",
        "outputId": "9879da8b-179b-420c-86b3-100e82a31ae8"
      },
      "source": [
        "learningrate_ary = [0.001, 0.0012, 0.0013, 0.0014, 0.0015, 0.0016, 0.0017, 0.0018, 0.0019, 0.002]\n",
        "epoch_ary = [10, 20, 30, 40, 50, 60, 70, 80, 90, 100]\n",
        "\n",
        "def create_model():\n",
        "  mlp = Sequential()\n",
        "  mlp.add(Dense(units = node_hidden, activation=\"tanh\", input_shape = (node_input, ), kernel_initializer=\"random_uniform\", bias_initializer=\"zeros\"))\n",
        "  mlp.add(Dense(units = node_output, activation=\"tanh\", kernel_initializer=\"random_uniform\", bias_initializer=\"zeros\"))\n",
        "  return mlp\n",
        "\n",
        "with strategy.scope():\n",
        "  mlp = create_model()\n",
        "  for LR in learningrate_ary:\n",
        "    for E in epoch_ary:\n",
        "      mlp.compile(loss=\"mse\", optimizer = Adam(learning_rate = LR), metrics = [\"accuracy\"])\n",
        "      hist = mlp.fit(x_train, y_train, batch_size = 4, epochs = E, validation_data = (x_test, y_test), verbose = 0)\n",
        "      res = mlp.evaluate(x_test, y_test, verbose = 0)\n",
        "      print(\"[ LR:\", LR, \", E:\", E, \"] Accuracy: \", res[1] * 100)"
      ],
      "execution_count": 76,
      "outputs": [
        {
          "output_type": "stream",
          "text": [
            "[ LR: 0.001 , E: 10 ] Accuracy:  63.88888955116272\n",
            "[ LR: 0.001 , E: 20 ] Accuracy:  88.88888955116272\n",
            "[ LR: 0.001 , E: 30 ] Accuracy:  91.66666865348816\n",
            "[ LR: 0.001 , E: 40 ] Accuracy:  91.66666865348816\n",
            "[ LR: 0.001 , E: 50 ] Accuracy:  94.4444477558136\n",
            "[ LR: 0.001 , E: 60 ] Accuracy:  97.22222089767456\n",
            "[ LR: 0.001 , E: 70 ] Accuracy:  97.22222089767456\n",
            "[ LR: 0.001 , E: 80 ] Accuracy:  91.66666865348816\n",
            "[ LR: 0.001 , E: 90 ] Accuracy:  88.88888955116272\n",
            "[ LR: 0.001 , E: 100 ] Accuracy:  91.66666865348816\n",
            "[ LR: 0.0012 , E: 10 ] Accuracy:  94.4444477558136\n",
            "[ LR: 0.0012 , E: 20 ] Accuracy:  88.88888955116272\n",
            "[ LR: 0.0012 , E: 30 ] Accuracy:  88.88888955116272\n",
            "[ LR: 0.0012 , E: 40 ] Accuracy:  94.4444477558136\n",
            "[ LR: 0.0012 , E: 50 ] Accuracy:  88.88888955116272\n",
            "[ LR: 0.0012 , E: 60 ] Accuracy:  88.88888955116272\n",
            "[ LR: 0.0012 , E: 70 ] Accuracy:  94.4444477558136\n",
            "[ LR: 0.0012 , E: 80 ] Accuracy:  91.66666865348816\n",
            "[ LR: 0.0012 , E: 90 ] Accuracy:  94.4444477558136\n",
            "[ LR: 0.0012 , E: 100 ] Accuracy:  94.4444477558136\n",
            "[ LR: 0.0013 , E: 10 ] Accuracy:  97.22222089767456\n",
            "[ LR: 0.0013 , E: 20 ] Accuracy:  88.88888955116272\n",
            "[ LR: 0.0013 , E: 30 ] Accuracy:  88.88888955116272\n",
            "[ LR: 0.0013 , E: 40 ] Accuracy:  86.11111044883728\n",
            "[ LR: 0.0013 , E: 50 ] Accuracy:  94.4444477558136\n",
            "[ LR: 0.0013 , E: 60 ] Accuracy:  88.88888955116272\n",
            "[ LR: 0.0013 , E: 70 ] Accuracy:  91.66666865348816\n",
            "[ LR: 0.0013 , E: 80 ] Accuracy:  91.66666865348816\n",
            "[ LR: 0.0013 , E: 90 ] Accuracy:  94.4444477558136\n",
            "[ LR: 0.0013 , E: 100 ] Accuracy:  94.4444477558136\n",
            "[ LR: 0.0014 , E: 10 ] Accuracy:  91.66666865348816\n",
            "[ LR: 0.0014 , E: 20 ] Accuracy:  94.4444477558136\n",
            "[ LR: 0.0014 , E: 30 ] Accuracy:  88.88888955116272\n",
            "[ LR: 0.0014 , E: 40 ] Accuracy:  91.66666865348816\n",
            "[ LR: 0.0014 , E: 50 ] Accuracy:  86.11111044883728\n",
            "[ LR: 0.0014 , E: 60 ] Accuracy:  94.4444477558136\n",
            "[ LR: 0.0014 , E: 70 ] Accuracy:  94.4444477558136\n",
            "[ LR: 0.0014 , E: 80 ] Accuracy:  91.66666865348816\n",
            "[ LR: 0.0014 , E: 90 ] Accuracy:  91.66666865348816\n",
            "[ LR: 0.0014 , E: 100 ] Accuracy:  88.88888955116272\n",
            "[ LR: 0.0015 , E: 10 ] Accuracy:  91.66666865348816\n",
            "[ LR: 0.0015 , E: 20 ] Accuracy:  94.4444477558136\n",
            "[ LR: 0.0015 , E: 30 ] Accuracy:  94.4444477558136\n",
            "[ LR: 0.0015 , E: 40 ] Accuracy:  94.4444477558136\n",
            "[ LR: 0.0015 , E: 50 ] Accuracy:  94.4444477558136\n",
            "[ LR: 0.0015 , E: 60 ] Accuracy:  94.4444477558136\n",
            "[ LR: 0.0015 , E: 70 ] Accuracy:  94.4444477558136\n",
            "[ LR: 0.0015 , E: 80 ] Accuracy:  91.66666865348816\n",
            "[ LR: 0.0015 , E: 90 ] Accuracy:  94.4444477558136\n",
            "[ LR: 0.0015 , E: 100 ] Accuracy:  94.4444477558136\n",
            "[ LR: 0.0016 , E: 10 ] Accuracy:  91.66666865348816\n",
            "[ LR: 0.0016 , E: 20 ] Accuracy:  94.4444477558136\n",
            "[ LR: 0.0016 , E: 30 ] Accuracy:  91.66666865348816\n",
            "[ LR: 0.0016 , E: 40 ] Accuracy:  91.66666865348816\n",
            "[ LR: 0.0016 , E: 50 ] Accuracy:  88.88888955116272\n",
            "[ LR: 0.0016 , E: 60 ] Accuracy:  94.4444477558136\n",
            "[ LR: 0.0016 , E: 70 ] Accuracy:  88.88888955116272\n",
            "[ LR: 0.0016 , E: 80 ] Accuracy:  88.88888955116272\n",
            "[ LR: 0.0016 , E: 90 ] Accuracy:  91.66666865348816\n",
            "[ LR: 0.0016 , E: 100 ] Accuracy:  91.66666865348816\n",
            "[ LR: 0.0017 , E: 10 ] Accuracy:  94.4444477558136\n",
            "[ LR: 0.0017 , E: 20 ] Accuracy:  94.4444477558136\n",
            "[ LR: 0.0017 , E: 30 ] Accuracy:  91.66666865348816\n",
            "[ LR: 0.0017 , E: 40 ] Accuracy:  88.88888955116272\n",
            "[ LR: 0.0017 , E: 50 ] Accuracy:  91.66666865348816\n",
            "[ LR: 0.0017 , E: 60 ] Accuracy:  91.66666865348816\n",
            "[ LR: 0.0017 , E: 70 ] Accuracy:  91.66666865348816\n",
            "[ LR: 0.0017 , E: 80 ] Accuracy:  94.4444477558136\n",
            "[ LR: 0.0017 , E: 90 ] Accuracy:  91.66666865348816\n",
            "[ LR: 0.0017 , E: 100 ] Accuracy:  91.66666865348816\n",
            "[ LR: 0.0018 , E: 10 ] Accuracy:  91.66666865348816\n",
            "[ LR: 0.0018 , E: 20 ] Accuracy:  94.4444477558136\n",
            "[ LR: 0.0018 , E: 30 ] Accuracy:  88.88888955116272\n",
            "[ LR: 0.0018 , E: 40 ] Accuracy:  91.66666865348816\n",
            "[ LR: 0.0018 , E: 50 ] Accuracy:  88.88888955116272\n",
            "[ LR: 0.0018 , E: 60 ] Accuracy:  94.4444477558136\n",
            "[ LR: 0.0018 , E: 70 ] Accuracy:  88.88888955116272\n",
            "[ LR: 0.0018 , E: 80 ] Accuracy:  94.4444477558136\n",
            "[ LR: 0.0018 , E: 90 ] Accuracy:  91.66666865348816\n",
            "[ LR: 0.0018 , E: 100 ] Accuracy:  91.66666865348816\n",
            "[ LR: 0.0019 , E: 10 ] Accuracy:  88.88888955116272\n",
            "[ LR: 0.0019 , E: 20 ] Accuracy:  91.66666865348816\n",
            "[ LR: 0.0019 , E: 30 ] Accuracy:  88.88888955116272\n",
            "[ LR: 0.0019 , E: 40 ] Accuracy:  91.66666865348816\n",
            "[ LR: 0.0019 , E: 50 ] Accuracy:  88.88888955116272\n",
            "[ LR: 0.0019 , E: 60 ] Accuracy:  88.88888955116272\n",
            "[ LR: 0.0019 , E: 70 ] Accuracy:  91.66666865348816\n",
            "[ LR: 0.0019 , E: 80 ] Accuracy:  91.66666865348816\n",
            "[ LR: 0.0019 , E: 90 ] Accuracy:  91.66666865348816\n",
            "[ LR: 0.0019 , E: 100 ] Accuracy:  91.66666865348816\n",
            "[ LR: 0.002 , E: 10 ] Accuracy:  91.66666865348816\n",
            "[ LR: 0.002 , E: 20 ] Accuracy:  91.66666865348816\n",
            "[ LR: 0.002 , E: 30 ] Accuracy:  86.11111044883728\n",
            "[ LR: 0.002 , E: 40 ] Accuracy:  91.66666865348816\n",
            "[ LR: 0.002 , E: 50 ] Accuracy:  91.66666865348816\n",
            "[ LR: 0.002 , E: 60 ] Accuracy:  91.66666865348816\n",
            "[ LR: 0.002 , E: 70 ] Accuracy:  91.66666865348816\n",
            "[ LR: 0.002 , E: 80 ] Accuracy:  91.66666865348816\n",
            "[ LR: 0.002 , E: 90 ] Accuracy:  91.66666865348816\n",
            "[ LR: 0.002 , E: 100 ] Accuracy:  91.66666865348816\n"
          ],
          "name": "stdout"
        }
      ]
    },
    {
      "cell_type": "markdown",
      "metadata": {
        "id": "OLqKxmqnuK6B"
      },
      "source": [
        "# DEEP MLP"
      ]
    },
    {
      "cell_type": "code",
      "metadata": {
        "colab": {
          "base_uri": "https://localhost:8080/"
        },
        "id": "Ji2gIeeWuGlG",
        "outputId": "de71a527-0e17-479f-ffc1-8bc04b5d367c"
      },
      "source": [
        "learningrate_ary = [0.001, 0.0012, 0.0013, 0.0014, 0.0015, 0.0016, 0.0017, 0.0018, 0.0019, 0.002]\n",
        "epoch_ary = [10, 20, 30, 40, 50, 60, 70, 80, 90, 100]\n",
        "\n",
        "node_input = 13\n",
        "node_hidden1 = 128\n",
        "node_hidden2 = 64\n",
        "node_hidden3 = 64\n",
        "node_hidden4 = 64\n",
        "node_output = 3\n",
        "\n",
        "def create_model():\n",
        "  mlp = Sequential()\n",
        "  mlp.add(Dense(units = node_hidden1, activation=\"tanh\", input_shape = (node_input, ), kernel_initializer=\"random_uniform\", bias_initializer=\"zeros\"))\n",
        "  mlp.add(Dense(units = node_hidden2, activation=\"tanh\", kernel_initializer=\"random_uniform\", bias_initializer=\"zeros\"))\n",
        "  mlp.add(Dense(units = node_hidden3, activation=\"tanh\", kernel_initializer=\"random_uniform\", bias_initializer=\"zeros\"))\n",
        "  mlp.add(Dense(units = node_hidden4, activation=\"tanh\", kernel_initializer=\"random_uniform\", bias_initializer=\"zeros\"))\n",
        "  mlp.add(Dense(units = node_output, activation=\"tanh\", kernel_initializer=\"random_uniform\", bias_initializer=\"zeros\"))\n",
        "  return mlp\n",
        "\n",
        "with strategy.scope():\n",
        "  mlp = create_model()\n",
        "  for LR in learningrate_ary:\n",
        "    for E in epoch_ary:\n",
        "      mlp.compile(loss=\"mse\", optimizer = Adam(learning_rate = LR), metrics = [\"accuracy\"])\n",
        "      hist = mlp.fit(x_train, y_train, batch_size = 4, epochs = E, validation_data = (x_test, y_test), verbose = 0)\n",
        "      res = mlp.evaluate(x_test, y_test, verbose = 0)\n",
        "      print(\"[ LR:\", LR, \", E:\", E, \"] Accuracy: \", res[1] * 100)"
      ],
      "execution_count": 80,
      "outputs": [
        {
          "output_type": "stream",
          "text": [
            "[ LR: 0.001 , E: 10 ] Accuracy:  63.88888955116272\n",
            "[ LR: 0.001 , E: 20 ] Accuracy:  63.88888955116272\n",
            "[ LR: 0.001 , E: 30 ] Accuracy:  72.22222089767456\n",
            "[ LR: 0.001 , E: 40 ] Accuracy:  75.0\n",
            "[ LR: 0.001 , E: 50 ] Accuracy:  91.66666865348816\n",
            "[ LR: 0.001 , E: 60 ] Accuracy:  91.66666865348816\n",
            "[ LR: 0.001 , E: 70 ] Accuracy:  88.88888955116272\n",
            "[ LR: 0.001 , E: 80 ] Accuracy:  91.66666865348816\n",
            "[ LR: 0.001 , E: 90 ] Accuracy:  63.88888955116272\n",
            "[ LR: 0.001 , E: 100 ] Accuracy:  80.55555820465088\n",
            "[ LR: 0.0012 , E: 10 ] Accuracy:  69.4444477558136\n",
            "[ LR: 0.0012 , E: 20 ] Accuracy:  94.4444477558136\n",
            "[ LR: 0.0012 , E: 30 ] Accuracy:  77.77777910232544\n",
            "[ LR: 0.0012 , E: 40 ] Accuracy:  91.66666865348816\n",
            "[ LR: 0.0012 , E: 50 ] Accuracy:  94.4444477558136\n",
            "[ LR: 0.0012 , E: 60 ] Accuracy:  69.4444477558136\n",
            "[ LR: 0.0012 , E: 70 ] Accuracy:  69.4444477558136\n",
            "[ LR: 0.0012 , E: 80 ] Accuracy:  38.88888955116272\n",
            "[ LR: 0.0012 , E: 90 ] Accuracy:  38.88888955116272\n",
            "[ LR: 0.0012 , E: 100 ] Accuracy:  38.88888955116272\n",
            "[ LR: 0.0013 , E: 10 ] Accuracy:  94.4444477558136\n",
            "[ LR: 0.0013 , E: 20 ] Accuracy:  91.66666865348816\n",
            "[ LR: 0.0013 , E: 30 ] Accuracy:  61.11111044883728\n",
            "[ LR: 0.0013 , E: 40 ] Accuracy:  61.11111044883728\n",
            "[ LR: 0.0013 , E: 50 ] Accuracy:  69.4444477558136\n",
            "[ LR: 0.0013 , E: 60 ] Accuracy:  69.4444477558136\n",
            "[ LR: 0.0013 , E: 70 ] Accuracy:  69.4444477558136\n",
            "[ LR: 0.0013 , E: 80 ] Accuracy:  63.88888955116272\n",
            "[ LR: 0.0013 , E: 90 ] Accuracy:  36.11111044883728\n",
            "[ LR: 0.0013 , E: 100 ] Accuracy:  61.11111044883728\n",
            "[ LR: 0.0014 , E: 10 ] Accuracy:  66.66666865348816\n",
            "[ LR: 0.0014 , E: 20 ] Accuracy:  69.4444477558136\n",
            "[ LR: 0.0014 , E: 30 ] Accuracy:  58.33333134651184\n",
            "[ LR: 0.0014 , E: 40 ] Accuracy:  69.4444477558136\n",
            "[ LR: 0.0014 , E: 50 ] Accuracy:  66.66666865348816\n",
            "[ LR: 0.0014 , E: 60 ] Accuracy:  69.4444477558136\n",
            "[ LR: 0.0014 , E: 70 ] Accuracy:  69.4444477558136\n",
            "[ LR: 0.0014 , E: 80 ] Accuracy:  69.4444477558136\n",
            "[ LR: 0.0014 , E: 90 ] Accuracy:  69.4444477558136\n",
            "[ LR: 0.0014 , E: 100 ] Accuracy:  38.88888955116272\n",
            "[ LR: 0.0015 , E: 10 ] Accuracy:  61.11111044883728\n",
            "[ LR: 0.0015 , E: 20 ] Accuracy:  66.66666865348816\n",
            "[ LR: 0.0015 , E: 30 ] Accuracy:  63.88888955116272\n",
            "[ LR: 0.0015 , E: 40 ] Accuracy:  61.11111044883728\n",
            "[ LR: 0.0015 , E: 50 ] Accuracy:  69.4444477558136\n",
            "[ LR: 0.0015 , E: 60 ] Accuracy:  63.88888955116272\n",
            "[ LR: 0.0015 , E: 70 ] Accuracy:  63.88888955116272\n",
            "[ LR: 0.0015 , E: 80 ] Accuracy:  66.66666865348816\n",
            "[ LR: 0.0015 , E: 90 ] Accuracy:  38.88888955116272\n",
            "[ LR: 0.0015 , E: 100 ] Accuracy:  38.88888955116272\n",
            "[ LR: 0.0016 , E: 10 ] Accuracy:  38.88888955116272\n",
            "[ LR: 0.0016 , E: 20 ] Accuracy:  38.88888955116272\n",
            "[ LR: 0.0016 , E: 30 ] Accuracy:  38.88888955116272\n",
            "[ LR: 0.0016 , E: 40 ] Accuracy:  38.88888955116272\n",
            "[ LR: 0.0016 , E: 50 ] Accuracy:  38.88888955116272\n",
            "[ LR: 0.0016 , E: 60 ] Accuracy:  38.88888955116272\n",
            "[ LR: 0.0016 , E: 70 ] Accuracy:  38.88888955116272\n",
            "[ LR: 0.0016 , E: 80 ] Accuracy:  38.88888955116272\n",
            "[ LR: 0.0016 , E: 90 ] Accuracy:  36.11111044883728\n",
            "[ LR: 0.0016 , E: 100 ] Accuracy:  38.88888955116272\n",
            "[ LR: 0.0017 , E: 10 ] Accuracy:  38.88888955116272\n",
            "[ LR: 0.0017 , E: 20 ] Accuracy:  38.88888955116272\n",
            "[ LR: 0.0017 , E: 30 ] Accuracy:  36.11111044883728\n",
            "[ LR: 0.0017 , E: 40 ] Accuracy:  38.88888955116272\n",
            "[ LR: 0.0017 , E: 50 ] Accuracy:  38.88888955116272\n",
            "[ LR: 0.0017 , E: 60 ] Accuracy:  38.88888955116272\n",
            "[ LR: 0.0017 , E: 70 ] Accuracy:  38.88888955116272\n",
            "[ LR: 0.0017 , E: 80 ] Accuracy:  36.11111044883728\n",
            "[ LR: 0.0017 , E: 90 ] Accuracy:  38.88888955116272\n",
            "[ LR: 0.0017 , E: 100 ] Accuracy:  38.88888955116272\n",
            "[ LR: 0.0018 , E: 10 ] Accuracy:  25.0\n",
            "[ LR: 0.0018 , E: 20 ] Accuracy:  38.88888955116272\n",
            "[ LR: 0.0018 , E: 30 ] Accuracy:  38.88888955116272\n",
            "[ LR: 0.0018 , E: 40 ] Accuracy:  36.11111044883728\n",
            "[ LR: 0.0018 , E: 50 ] Accuracy:  38.88888955116272\n",
            "[ LR: 0.0018 , E: 60 ] Accuracy:  38.88888955116272\n",
            "[ LR: 0.0018 , E: 70 ] Accuracy:  38.88888955116272\n",
            "[ LR: 0.0018 , E: 80 ] Accuracy:  25.0\n",
            "[ LR: 0.0018 , E: 90 ] Accuracy:  38.88888955116272\n",
            "[ LR: 0.0018 , E: 100 ] Accuracy:  36.11111044883728\n",
            "[ LR: 0.0019 , E: 10 ] Accuracy:  38.88888955116272\n",
            "[ LR: 0.0019 , E: 20 ] Accuracy:  38.88888955116272\n",
            "[ LR: 0.0019 , E: 30 ] Accuracy:  38.88888955116272\n",
            "[ LR: 0.0019 , E: 40 ] Accuracy:  25.0\n",
            "[ LR: 0.0019 , E: 50 ] Accuracy:  38.88888955116272\n",
            "[ LR: 0.0019 , E: 60 ] Accuracy:  38.88888955116272\n",
            "[ LR: 0.0019 , E: 70 ] Accuracy:  38.88888955116272\n",
            "[ LR: 0.0019 , E: 80 ] Accuracy:  38.88888955116272\n",
            "[ LR: 0.0019 , E: 90 ] Accuracy:  38.88888955116272\n",
            "[ LR: 0.0019 , E: 100 ] Accuracy:  38.88888955116272\n",
            "[ LR: 0.002 , E: 10 ] Accuracy:  25.0\n",
            "[ LR: 0.002 , E: 20 ] Accuracy:  38.88888955116272\n",
            "[ LR: 0.002 , E: 30 ] Accuracy:  38.88888955116272\n",
            "[ LR: 0.002 , E: 40 ] Accuracy:  38.88888955116272\n",
            "[ LR: 0.002 , E: 50 ] Accuracy:  38.88888955116272\n",
            "[ LR: 0.002 , E: 60 ] Accuracy:  25.0\n",
            "[ LR: 0.002 , E: 70 ] Accuracy:  36.11111044883728\n",
            "[ LR: 0.002 , E: 80 ] Accuracy:  38.88888955116272\n",
            "[ LR: 0.002 , E: 90 ] Accuracy:  36.11111044883728\n",
            "[ LR: 0.002 , E: 100 ] Accuracy:  25.0\n"
          ],
          "name": "stdout"
        }
      ]
    },
    {
      "cell_type": "code",
      "metadata": {
        "colab": {
          "base_uri": "https://localhost:8080/",
          "height": 573
        },
        "id": "efZTuyUtLXyM",
        "outputId": "b2febe05-e686-462e-8db2-a599718529d4"
      },
      "source": [
        "import matplotlib.pyplot as plt\n",
        "\n",
        "plt.plot(hist.history[\"accuracy\"])\n",
        "plt.plot(hist.history[\"val_accuracy\"])\n",
        "plt.title(\"Model Accuracy\")\n",
        "plt.ylabel(\"Accuracy\")\n",
        "plt.xlabel(\"Epoch\")\n",
        "plt.legend([\"Train\", \"Validation\"], loc = \"lower right\")\n",
        "plt.grid()\n",
        "plt.show()\n",
        "\n",
        "plt.plot(hist.history[\"loss\"])\n",
        "plt.plot(hist.history[\"val_loss\"])\n",
        "plt.title(\"Model loss\")\n",
        "plt.ylabel(\"Loss\")\n",
        "plt.xlabel(\"Epoch\")\n",
        "plt.legend([\"Train\", \"Validation\"], loc = \"upper right\")\n",
        "plt.grid()\n",
        "plt.show()"
      ],
      "execution_count": 38,
      "outputs": [
        {
          "output_type": "display_data",
          "data": {
            "image/png": "[encoded data removed]",
            "text/plain": [
              "<Figure size 432x288 with 1 Axes>"
            ]
          },
          "metadata": {
            "tags": [],
            "needs_background": "light"
          }
        },
        {
          "output_type": "display_data",
          "data": {
            "image/png": "[encoded data removed]",
            "text/plain": [
              "<Figure size 432x288 with 1 Axes>"
            ]
          },
          "metadata": {
            "tags": [],
            "needs_background": "light"
          }
        }
      ]
    }
  ]
}