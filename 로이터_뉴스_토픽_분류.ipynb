{
  "nbformat": 4,
  "nbformat_minor": 0,
  "metadata": {
    "colab": {
      "name": "로이터 뉴스 토픽 분류.ipynb",
      "provenance": [],
      "collapsed_sections": [],
      "authorship_tag": "ABX9TyPwOpLZQRq2GH11lTsWAr+O",
      "include_colab_link": true
    },
    "kernelspec": {
      "name": "python3",
      "display_name": "Python 3"
    },
    "language_info": {
      "name": "python"
    },
    "accelerator": "TPU"
  },
  "cells": [
    {
      "cell_type": "markdown",
      "metadata": {
        "id": "view-in-github",
        "colab_type": "text"
      },
      "source": [
        "<a href=\"https://colab.research.google.com/github/Kang-Inprogress/AI-System/blob/Final-Test/%EB%A1%9C%EC%9D%B4%ED%84%B0_%EB%89%B4%EC%8A%A4_%ED%86%A0%ED%94%BD_%EB%B6%84%EB%A5%98.ipynb\" target=\"_parent\"><img src=\"https://colab.research.google.com/assets/colab-badge.svg\" alt=\"Open In Colab\"/></a>"
      ]
    },
    {
      "cell_type": "markdown",
      "metadata": {
        "id": "SLOGl-1OtIjB"
      },
      "source": [
        "데이터 정보:\n",
        "46가지 토픽으로 라벨이 달린 11,228개의 로이터 뉴스(기사)로 이루어진 데이터셋"
      ]
    },
    {
      "cell_type": "markdown",
      "metadata": {
        "id": "w9dH035D1jDN"
      },
      "source": [
        "word_index = reuters.get_word_index(path=\"reuters_word_index.json\") 를 사용해서 단어와 매칭되는 인덱스번호(number)를 알 수 있다."
      ]
    },
    {
      "cell_type": "code",
      "metadata": {
        "id": "4znggJgU1dOv"
      },
      "source": [
        "# 데이터 준비\n",
        "import numpy as np\n",
        "import tensorflow as tf\n",
        "from tensorflow.keras.datasets import reuters\n",
        "\n",
        "(x_train, y_train), (x_test, y_test) = reuters.load_data(num_words=None, test_split=0.2)\n",
        "\n",
        "# print('훈련용 뉴스 기사 : {}'.format(len(x_train)))\n",
        "# print('테스트용 뉴스 기사 : {}'.format(len(x_test)))\n",
        "# num_classes = max(y_train) + 1\n",
        "# print('카테고리 : {}'.format(num_classes))\n",
        "# 훈련 셋: 8982개(80%), 테스트 셋: 2246개(20%), 카테고리(label): 46개"
      ],
      "execution_count": null,
      "outputs": []
    }
  ]
}